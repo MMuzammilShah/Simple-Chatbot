{
 "cells": [
  {
   "cell_type": "code",
   "execution_count": null,
   "id": "996326e7-7474-484c-920b-43787910e100",
   "metadata": {},
   "outputs": [],
   "source": [
    "# Sim"
   ]
  },
  {
   "cell_type": "code",
   "execution_count": null,
   "id": "d7e74c06-a150-4751-9434-900ada22ab67",
   "metadata": {},
   "outputs": [
    {
     "name": "stdin",
     "output_type": "stream",
     "text": [
      "MY_Chatbot: Hello! What's your name?  syed\n"
     ]
    },
    {
     "name": "stdout",
     "output_type": "stream",
     "text": [
      "Chatbot: Nice to meet you, Welcome syed ChatBot \n",
      " Type 'exit' to end the conversation.\n"
     ]
    }
   ],
   "source": [
    "def get_response(user_input, user_name):\n",
    "    user_input = user_input.lower()\n",
    "    if \"hello\" in user_input:\n",
    "        return f\"Hi there, {user_name}! How can I help you today?\"\n",
    "    elif \"hi\" in user_input:\n",
    "        return f\"Hello, {user_name}! How can I assist you?\"\n",
    "    elif \"how are you\" in user_input:\n",
    "        return f\"I'm just a bot, but I'm doing great, {user_name}! How about you?\"\n",
    "    elif \"bye\" in user_input:\n",
    "        return f\"Goodbye, {user_name}! Have a great day!\"\n",
    "    elif \"thanks\" in user_input:\n",
    "        return f\"You're welcome, {user_name}!\"\n",
    "    elif \"help\" in user_input:\n",
    "        return f\"Sure, {user_name}, I am here to help you. What do you need assistance with?\"\n",
    "    else:\n",
    "        return f\"Sorry, {user_name}, I didn't understand that. Can you please rephrase?\"\n",
    "\n",
    "def chatbot():\n",
    "    user_name = input(\"MY_Chatbot: Hello! What's your name? \")\n",
    "    print(f\"Chatbot: Nice to meet you,{user_name} and WelCome My_ChatBot \\n Type 'exit' to end the conversation.\")\n",
    "    while True:\n",
    "        user_input = input(f\"{user_name}: \")\n",
    "        if user_input.lower() == 'exit':\n",
    "            print(f\"Chatbot: Goodbye, {user_name}!\")\n",
    "            break\n",
    "        response = get_response(user_input, user_name)\n",
    "        print(f\"MY_Chatbot: {response}\")\n",
    "\n",
    "if __name__ == \"__main__\":\n",
    "    chatbot()\n"
   ]
  },
  {
   "cell_type": "code",
   "execution_count": null,
   "id": "ce5594c9-c222-4ef3-a9be-f13908581d44",
   "metadata": {},
   "outputs": [],
   "source": []
  },
  {
   "cell_type": "code",
   "execution_count": null,
   "id": "7fc2d4f7-9697-4d16-aec2-a71d62cd188b",
   "metadata": {},
   "outputs": [],
   "source": []
  }
 ],
 "metadata": {
  "kernelspec": {
   "display_name": "Python 3 (ipykernel)",
   "language": "python",
   "name": "python3"
  },
  "language_info": {
   "codemirror_mode": {
    "name": "ipython",
    "version": 3
   },
   "file_extension": ".py",
   "mimetype": "text/x-python",
   "name": "python",
   "nbconvert_exporter": "python",
   "pygments_lexer": "ipython3",
   "version": "3.12.3"
  }
 },
 "nbformat": 4,
 "nbformat_minor": 5
}
